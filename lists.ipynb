{
 "cells": [
  {
   "cell_type": "code",
   "execution_count": 1,
   "id": "eacb8f64-714a-4687-a4fe-005c0f54d3d4",
   "metadata": {},
   "outputs": [
    {
     "name": "stdout",
     "output_type": "stream",
     "text": [
      "[1, 3, 5, 7]\n"
     ]
    }
   ],
   "source": [
    "odds=[1,3,5,7]\n",
    "print(odds)"
   ]
  },
  {
   "cell_type": "code",
   "execution_count": 2,
   "id": "9940e90b-5ea7-429f-96cd-9e171c92a01f",
   "metadata": {},
   "outputs": [
    {
     "data": {
      "text/plain": [
       "1"
      ]
     },
     "execution_count": 2,
     "metadata": {},
     "output_type": "execute_result"
    }
   ],
   "source": [
    "odds[0]"
   ]
  },
  {
   "cell_type": "code",
   "execution_count": 3,
   "id": "da41d9e8-c038-4b97-9815-113afb0594a9",
   "metadata": {},
   "outputs": [
    {
     "data": {
      "text/plain": [
       "7"
      ]
     },
     "execution_count": 3,
     "metadata": {},
     "output_type": "execute_result"
    }
   ],
   "source": [
    "odds[3]"
   ]
  },
  {
   "cell_type": "code",
   "execution_count": 4,
   "id": "9947499f-62bf-42cc-97a7-aba22b4d8ec6",
   "metadata": {},
   "outputs": [],
   "source": [
    "element=\"oxygen\""
   ]
  },
  {
   "cell_type": "code",
   "execution_count": 5,
   "id": "24e082fe-b466-4ec1-a526-7676cd61d294",
   "metadata": {},
   "outputs": [
    {
     "data": {
      "text/plain": [
       "'oxygen'"
      ]
     },
     "execution_count": 5,
     "metadata": {},
     "output_type": "execute_result"
    }
   ],
   "source": [
    "element"
   ]
  },
  {
   "cell_type": "code",
   "execution_count": 6,
   "id": "8a8e2afd-1529-4254-97e0-7719585c7a62",
   "metadata": {},
   "outputs": [
    {
     "data": {
      "text/plain": [
       "['jack', 'jane']"
      ]
     },
     "execution_count": 6,
     "metadata": {},
     "output_type": "execute_result"
    }
   ],
   "source": [
    "names=[\"jack\",\"jane\"]\n",
    "names"
   ]
  },
  {
   "cell_type": "code",
   "execution_count": 7,
   "id": "8f5aead1-dbc6-4233-bfd8-b3502c25116f",
   "metadata": {},
   "outputs": [
    {
     "data": {
      "text/plain": [
       "['jack', 'jane']"
      ]
     },
     "execution_count": 7,
     "metadata": {},
     "output_type": "execute_result"
    }
   ],
   "source": [
    "names2=names\n",
    "names2"
   ]
  },
  {
   "cell_type": "code",
   "execution_count": 8,
   "id": "489fecd0-a821-4e98-8d43-0bca4ca018de",
   "metadata": {},
   "outputs": [
    {
     "data": {
      "text/plain": [
       "['jack', 'haoran']"
      ]
     },
     "execution_count": 8,
     "metadata": {},
     "output_type": "execute_result"
    }
   ],
   "source": [
    "names2[1]=\"haoran\"\n",
    "names2"
   ]
  },
  {
   "cell_type": "code",
   "execution_count": 9,
   "id": "adf9a9c6-b0be-4307-8ec7-8f995af8d3d8",
   "metadata": {},
   "outputs": [
    {
     "name": "stdout",
     "output_type": "stream",
     "text": [
      "[['pepper', 'onion'], ['apple', 'banana']]\n"
     ]
    }
   ],
   "source": [
    "food=[['pepper','onion'],['apple','banana']]\n",
    "print(food)"
   ]
  },
  {
   "cell_type": "code",
   "execution_count": 10,
   "id": "962c5205-f83e-461b-91be-395e3d91c860",
   "metadata": {},
   "outputs": [
    {
     "name": "stdout",
     "output_type": "stream",
     "text": [
      "['pepper', 'onion']\n"
     ]
    }
   ],
   "source": [
    "print(food[0])"
   ]
  },
  {
   "cell_type": "code",
   "execution_count": 11,
   "id": "2336b3e5-6a4f-4280-965a-cc2d2fec14a6",
   "metadata": {},
   "outputs": [
    {
     "data": {
      "text/plain": [
       "'onion'"
      ]
     },
     "execution_count": 11,
     "metadata": {},
     "output_type": "execute_result"
    }
   ],
   "source": [
    "food[0][1]"
   ]
  },
  {
   "cell_type": "code",
   "execution_count": 12,
   "id": "b487c7bd-8631-49f2-a612-2816927e5bc0",
   "metadata": {},
   "outputs": [
    {
     "data": {
      "text/plain": [
       "[['pepper', 'onion']]"
      ]
     },
     "execution_count": 12,
     "metadata": {},
     "output_type": "execute_result"
    }
   ],
   "source": [
    "[food[0]]"
   ]
  },
  {
   "cell_type": "code",
   "execution_count": 13,
   "id": "82694c05-5a69-4a94-b76d-823765827644",
   "metadata": {},
   "outputs": [
    {
     "data": {
      "text/plain": [
       "['pepper']"
      ]
     },
     "execution_count": 13,
     "metadata": {},
     "output_type": "execute_result"
    }
   ],
   "source": [
    "[food[0][0]]"
   ]
  },
  {
   "cell_type": "code",
   "execution_count": 14,
   "id": "02444139-ca19-4d88-a038-7e6889edd2ba",
   "metadata": {},
   "outputs": [
    {
     "name": "stdout",
     "output_type": "stream",
     "text": [
      "[1.0, 9, 'something']\n"
     ]
    }
   ],
   "source": [
    "mix=[1.0,9,\"something\"]\n",
    "print(mix)"
   ]
  },
  {
   "cell_type": "code",
   "execution_count": 15,
   "id": "ca7f697c-8c46-4989-a510-3e90cc1deaa1",
   "metadata": {},
   "outputs": [
    {
     "name": "stdout",
     "output_type": "stream",
     "text": [
      "[1, 3, 5, 7, 9]\n"
     ]
    }
   ],
   "source": [
    "odds\n",
    "odds.append(9)\n",
    "print(odds)"
   ]
  },
  {
   "cell_type": "code",
   "execution_count": 16,
   "id": "865a60fd-5090-44df-9ae7-fb72ea7314c0",
   "metadata": {},
   "outputs": [
    {
     "data": {
      "text/plain": [
       "9"
      ]
     },
     "execution_count": 16,
     "metadata": {},
     "output_type": "execute_result"
    }
   ],
   "source": [
    "odds.pop(-1)#last one"
   ]
  },
  {
   "cell_type": "code",
   "execution_count": 17,
   "id": "967d50f4-3de4-455c-800b-76ae896aa59a",
   "metadata": {},
   "outputs": [
    {
     "name": "stdout",
     "output_type": "stream",
     "text": [
      "[1, 3, 5, 7]\n"
     ]
    }
   ],
   "source": [
    "print(odds)"
   ]
  },
  {
   "cell_type": "code",
   "execution_count": 18,
   "id": "9fb52bae-4d8e-4a79-9fe1-d46eedd78ed0",
   "metadata": {},
   "outputs": [
    {
     "name": "stdout",
     "output_type": "stream",
     "text": [
      "[7, 5, 3, 1]\n"
     ]
    }
   ],
   "source": [
    "odds.reverse()\n",
    "print(odds)"
   ]
  },
  {
   "cell_type": "code",
   "execution_count": 19,
   "id": "0d40b7ce-84e1-4f18-9b16-2039660cbdaa",
   "metadata": {},
   "outputs": [
    {
     "name": "stdout",
     "output_type": "stream",
     "text": [
      "ox\n"
     ]
    }
   ],
   "source": [
    "element\n",
    "group=element[0:2]\n",
    "print(group)"
   ]
  },
  {
   "cell_type": "code",
   "execution_count": 21,
   "id": "5936944d-dabb-4d4a-8c47-51e2560acc03",
   "metadata": {},
   "outputs": [
    {
     "name": "stdout",
     "output_type": "stream",
     "text": [
      "[7, 5, 3, 1]\n",
      "7\n",
      "5\n",
      "3\n",
      "1\n"
     ]
    }
   ],
   "source": [
    "print(odds)\n",
    "for x in odds:\n",
    "    print(x)"
   ]
  },
  {
   "cell_type": "code",
   "execution_count": 22,
   "id": "8cdd69df-482a-4347-8bdc-c539017a85ab",
   "metadata": {},
   "outputs": [
    {
     "name": "stdout",
     "output_type": "stream",
     "text": [
      "['jack', 'haoran']\n"
     ]
    }
   ],
   "source": [
    "print(names)"
   ]
  },
  {
   "cell_type": "code",
   "execution_count": 25,
   "id": "f848675d-99a3-46db-a5c4-2cf13be6afd4",
   "metadata": {},
   "outputs": [
    {
     "name": "stdout",
     "output_type": "stream",
     "text": [
      "2\n"
     ]
    }
   ],
   "source": [
    "num_items=0\n",
    "for name in names:\n",
    "    num_items=num_items+1\n",
    "print(num_items)"
   ]
  },
  {
   "cell_type": "code",
   "execution_count": 26,
   "id": "f0566336-63e0-4e80-9903-512185fdb8ea",
   "metadata": {},
   "outputs": [
    {
     "data": {
      "text/plain": [
       "2"
      ]
     },
     "execution_count": 26,
     "metadata": {},
     "output_type": "execute_result"
    }
   ],
   "source": [
    "len(names)"
   ]
  },
  {
   "cell_type": "code",
   "execution_count": 27,
   "id": "81737890-e3c6-487a-bccf-c282cae96df6",
   "metadata": {},
   "outputs": [
    {
     "name": "stdout",
     "output_type": "stream",
     "text": [
      "[7, 5, 3, 1]\n",
      "[7, 5, 3, 1, 7, 5, 3, 1]\n"
     ]
    }
   ],
   "source": [
    "odds\n",
    "print(odds)\n",
    "print(odds*2)"
   ]
  },
  {
   "cell_type": "code",
   "execution_count": 29,
   "id": "0f2add5e-678e-4433-92de-664a7d2fb871",
   "metadata": {},
   "outputs": [
    {
     "name": "stdout",
     "output_type": "stream",
     "text": [
      "['jack', 'haoran']\n",
      "index is: 0 value is jack\n",
      "index is: 1 value is haoran\n"
     ]
    }
   ],
   "source": [
    "print(names)\n",
    "for index,value in enumerate(names):\n",
    "    print(\"index is: \"+str(index),\"value is \"+value)"
   ]
  },
  {
   "cell_type": "code",
   "execution_count": null,
   "id": "f6f28cde-84df-4c08-b650-ccfde7ef5db9",
   "metadata": {},
   "outputs": [],
   "source": []
  }
 ],
 "metadata": {
  "kernelspec": {
   "display_name": "Python 3",
   "language": "python",
   "name": "python3"
  },
  "language_info": {
   "codemirror_mode": {
    "name": "ipython",
    "version": 3
   },
   "file_extension": ".py",
   "mimetype": "text/x-python",
   "name": "python",
   "nbconvert_exporter": "python",
   "pygments_lexer": "ipython3",
   "version": "3.8.8"
  }
 },
 "nbformat": 4,
 "nbformat_minor": 5
}
